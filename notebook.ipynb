{
 "cells": [
  {
   "cell_type": "markdown",
   "id": "4eb2ce11-46be-481b-bf18-11c49b5dd989",
   "metadata": {},
   "source": [
    "# DATA SCIENCE"
   ]
  },
  {
   "cell_type": "markdown",
   "id": "d05fa463-2a45-4c02-8d4f-012d767a71de",
   "metadata": {},
   "source": [
    "This notebook demonstrates the different Data science languages,libraries,tools and many more functions performed in data science."
   ]
  },
  {
   "cell_type": "markdown",
   "id": "e2b22ca6-ad3f-44ce-90ba-4a0e5bbb993f",
   "metadata": {},
   "source": [
    "## Data science languages\n",
    "1. Python\n",
    "2. Scala\n",
    "3. R\n",
    "4. SQL\n",
    "5. Julia"
   ]
  },
  {
   "cell_type": "markdown",
   "id": "05262be1-c4cd-40e9-8359-676a9c680284",
   "metadata": {},
   "source": [
    "## Data science Libraries\n",
    "1. Numpy\n",
    "2. Pandas\n",
    "3. Seaborn\n",
    "4. Tensorflow\n",
    "5. Matplotlib\n",
    "6. ggplot2\n",
    "7. Keras\n",
    "8. Pytorch\n",
    "9. Statsmodels\n",
    "10. Xgboost"
   ]
  },
  {
   "cell_type": "markdown",
   "id": "3b48ec06-b413-4641-b200-078be9d68c39",
   "metadata": {},
   "source": [
    "# Table of Data science tools\n",
    "|S no.| Tool|\n",
    "|-----|--------|\n",
    "|1. | Tensorflow|\n",
    "|2. | Anaconda|\n",
    "|3. | Jupyter notebook|\n",
    "|4. | PyTorch|\n",
    "|5. | Apache Spark|\n",
    "|6. | Git|\n",
    "|7. | Hadoop|\n",
    "|8. | Tableau|"
   ]
  },
  {
   "cell_type": "markdown",
   "id": "05ad82d1-c2d9-4e6a-8d46-7251406f042d",
   "metadata": {},
   "source": [
    "## \"Now, we will explore some basic arithmetic expressions to demonstrate fundamental mathematical operations in Data science\""
   ]
  },
  {
   "cell_type": "code",
   "execution_count": 2,
   "id": "f8eab58c-61cb-4ae8-8c1f-25320368ef51",
   "metadata": {},
   "outputs": [
    {
     "name": "stdout",
     "output_type": "stream",
     "text": [
      "Multiplication result: 340\n",
      "Addition result: 110\n"
     ]
    }
   ],
   "source": [
    "# Multiplying 2 numbers\n",
    "multiplication_result = 20*17\n",
    "\n",
    "# Adding 2 Numbers\n",
    "addition_result = 34+76\n",
    "\n",
    "# Display the results\n",
    "print(f\"Multiplication result: {multiplication_result}\")\n",
    "print(f\"Addition result: {addition_result}\")"
   ]
  },
  {
   "cell_type": "code",
   "execution_count": 15,
   "id": "178bdee4-0cdd-4528-9e2a-ea48bdab9311",
   "metadata": {},
   "outputs": [
    {
     "name": "stdout",
     "output_type": "stream",
     "text": [
      "180 minutes is equal to 3.0 hours.\n"
     ]
    }
   ],
   "source": [
    "# Convert minutes to hours\n",
    "minutes= 180 \n",
    "hours= minutes / 60\n",
    "# Display the result\n",
    "print(f\"{minutes} minutes is equal to {hours} hours.\")"
   ]
  },
  {
   "cell_type": "markdown",
   "id": "d4af5974-c109-4389-a582-7a2227f614b6",
   "metadata": {},
   "source": [
    "## Some fundamental arithmetic functions used in data science are\n",
    "- Addition\n",
    "- Subtraction\n",
    "- Multiplication\n",
    "- Division\n",
    "- Modulo\n",
    "- Mean\n",
    "- Median\n",
    "- Variance\n",
    "- Standard deviation\n",
    "- Exponentiation"
   ]
  },
  {
   "cell_type": "markdown",
   "id": "ba44b352-d53c-4028-83bf-777c8c3a6cbd",
   "metadata": {},
   "source": [
    "# Author's name:\n",
    "## ADARSH VIJ"
   ]
  },
  {
   "cell_type": "markdown",
   "id": "a387cc33-714a-44c8-b574-f694db08fc50",
   "metadata": {},
   "source": []
  }
 ],
 "metadata": {
  "kernelspec": {
   "display_name": "Python 3 (ipykernel)",
   "language": "python",
   "name": "python3"
  },
  "language_info": {
   "codemirror_mode": {
    "name": "ipython",
    "version": 3
   },
   "file_extension": ".py",
   "mimetype": "text/x-python",
   "name": "python",
   "nbconvert_exporter": "python",
   "pygments_lexer": "ipython3",
   "version": "3.12.4"
  }
 },
 "nbformat": 4,
 "nbformat_minor": 5
}
